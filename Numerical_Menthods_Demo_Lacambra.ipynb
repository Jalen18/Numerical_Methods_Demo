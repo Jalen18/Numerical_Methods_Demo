{
  "nbformat": 4,
  "nbformat_minor": 0,
  "metadata": {
    "colab": {
      "name": "Numerical_Menthods_Demo_Lacambra.ipynb",
      "private_outputs": true,
      "provenance": [],
      "authorship_tag": "ABX9TyNoOasUVsq8HfCJuV+DLML1",
      "include_colab_link": true
    },
    "kernelspec": {
      "name": "python3",
      "display_name": "Python 3"
    },
    "language_info": {
      "name": "python"
    }
  },
  "cells": [
    {
      "cell_type": "markdown",
      "metadata": {
        "id": "view-in-github",
        "colab_type": "text"
      },
      "source": [
        "<a href=\"https://colab.research.google.com/github/Jalen18/Numerical_Methods_Demo/blob/main/Numerical_Menthods_Demo_Lacambra.ipynb\" target=\"_parent\"><img src=\"https://colab.research.google.com/assets/colab-badge.svg\" alt=\"Open In Colab\"/></a>"
      ]
    },
    {
      "cell_type": "markdown",
      "metadata": {
        "id": "sUf_InjCOCYS"
      },
      "source": [
        "#Introduction in Numerical Method\n"
      ]
    },
    {
      "cell_type": "code",
      "metadata": {
        "id": "rrefCkcPONiT"
      },
      "source": [
        "x = 5\n",
        "y = 'John'\n",
        "print(type(x))\n",
        "print (type(y))"
      ],
      "execution_count": null,
      "outputs": []
    },
    {
      "cell_type": "code",
      "metadata": {
        "id": "i-1kFs8rQ3a1"
      },
      "source": [
        "x,y,z = \"one\",\"two\", \"three\"\n",
        "print (x)\n",
        "print (y)\n",
        "print (z)"
      ],
      "execution_count": null,
      "outputs": []
    },
    {
      "cell_type": "code",
      "metadata": {
        "id": "jSxLRfLwRh2J"
      },
      "source": [
        "x = \"enjoying\"\n",
        "print(\"Python programming is\" +x)"
      ],
      "execution_count": null,
      "outputs": []
    },
    {
      "cell_type": "code",
      "metadata": {
        "id": "UIPfncCBSfQF"
      },
      "source": [
        "x = \"Python is\"\n",
        "y = \"enjoying\"\n",
        "z = x + y\n",
        "print(z)"
      ],
      "execution_count": null,
      "outputs": []
    },
    {
      "cell_type": "markdown",
      "metadata": {
        "id": "72LI5HGOUXqS"
      },
      "source": [
        "##Arithmetic"
      ]
    },
    {
      "cell_type": "code",
      "metadata": {
        "id": "FwEeav82OrBw"
      },
      "source": [
        "x = 5\n",
        "y= 3\n",
        "print (x+y)"
      ],
      "execution_count": null,
      "outputs": []
    },
    {
      "cell_type": "code",
      "metadata": {
        "id": "q3fPsCoZTStv"
      },
      "source": [
        "x = 3\n",
        "y =5\n",
        "sum = x+y\n",
        "print (sum)"
      ],
      "execution_count": null,
      "outputs": []
    },
    {
      "cell_type": "code",
      "metadata": {
        "id": "J7lMAhKTTfvo"
      },
      "source": [
        "a,b,c = 0,-1,6\n",
        "c%=3 #This will display the remainder c%#\n",
        "c"
      ],
      "execution_count": null,
      "outputs": []
    },
    {
      "cell_type": "markdown",
      "metadata": {
        "id": "nh-cEKo3VMr6"
      },
      "source": [
        "##Comparison"
      ]
    },
    {
      "cell_type": "code",
      "metadata": {
        "id": "uB-rlJGgURaZ"
      },
      "source": [
        "x = 3\n",
        "y =5\n",
        "compare= x>y\n",
        "print (compare)\n"
      ],
      "execution_count": null,
      "outputs": []
    },
    {
      "cell_type": "code",
      "metadata": {
        "id": "4Eph3lcKVQX_"
      },
      "source": [
        "x = 3\n",
        "y =5\n",
        "\n",
        "x>2 and y>4"
      ],
      "execution_count": null,
      "outputs": []
    },
    {
      "cell_type": "code",
      "metadata": {
        "id": "S4iNgEHUWKa-"
      },
      "source": [
        ""
      ],
      "execution_count": null,
      "outputs": []
    }
  ]
}